{
 "cells": [
  {
   "cell_type": "code",
   "execution_count": 2,
   "metadata": {},
   "outputs": [],
   "source": [
    "import pickle"
   ]
  },
  {
   "cell_type": "code",
   "execution_count": 6,
   "metadata": {},
   "outputs": [
    {
     "data": {
      "text/plain": [
       "25907"
      ]
     },
     "execution_count": 6,
     "metadata": {},
     "output_type": "execute_result"
    }
   ],
   "source": [
    "transliterate = {}\n",
    "with open(\"Downloads/hindi_english_transliteration.txt\",encoding=\"utf8\") as f:\n",
    "    for line in f:\n",
    "       (key, val) = line.split()\n",
    "       transliterate[key] = val\n",
    "len(transliterate)"
   ]
  },
  {
   "cell_type": "code",
   "execution_count": 9,
   "metadata": {},
   "outputs": [
    {
     "data": {
      "text/plain": [
       "35095"
      ]
     },
     "execution_count": 9,
     "metadata": {},
     "output_type": "execute_result"
    }
   ],
   "source": [
    "with open(\"Downloads/crowd_transliterations.hi-en.txt\",encoding=\"utf8\") as f:\n",
    "    for line in f:\n",
    "       (key, val) = line.split()\n",
    "       transliterate[key] = val\n",
    "len(transliterate)"
   ]
  },
  {
   "cell_type": "code",
   "execution_count": 13,
   "metadata": {},
   "outputs": [],
   "source": [
    "for i in range(1, 19):\n",
    "    filename = \"Downloads/Chat/\" \"user-\" + str(i) + \".txt\"\n",
    "    file = open(filename, \"r\",encoding = \"utf8\")\n",
    "    english_sentence = file.readline()\n",
    "    while (english_sentence != ''):\n",
    "        english_sentence = file.readline()\n",
    "        if (english_sentence=='\\r\\n'):\n",
    "            english_sentence = file.readline()\n",
    "        hindi_sentence = file.readline()\n",
    "        english_words = english_sentence.split(';')\n",
    "        hindi_words = hindi_sentence.split(';')\n",
    "        for eword, hword in zip(english_words, hindi_words):\n",
    "            transliterate[eword] = hword"
   ]
  },
  {
   "cell_type": "code",
   "execution_count": 14,
   "metadata": {},
   "outputs": [
    {
     "data": {
      "text/plain": [
       "35495"
      ]
     },
     "execution_count": 14,
     "metadata": {},
     "output_type": "execute_result"
    }
   ],
   "source": [
    "len(transliterate)"
   ]
  },
  {
   "cell_type": "code",
   "execution_count": 16,
   "metadata": {},
   "outputs": [
    {
     "data": {
      "text/plain": [
       "36096"
      ]
     },
     "execution_count": 16,
     "metadata": {},
     "output_type": "execute_result"
    }
   ],
   "source": [
    "for i in range(1, 19):\n",
    "    filename = \"Downloads/Scenerio/\" \"user-\" + str(i) + \".txt\"\n",
    "    file = open(filename, \"r\",encoding = \"utf8\")\n",
    "    english_sentence = file.readline()\n",
    "    while (english_sentence != ''):\n",
    "        english_sentence = file.readline()\n",
    "        if (english_sentence=='\\r\\n'):\n",
    "            english_sentence = file.readline()\n",
    "        hindi_sentence = file.readline()\n",
    "        english_words = english_sentence.split(';')\n",
    "        hindi_words = hindi_sentence.split(';')\n",
    "        for eword, hword in zip(english_words, hindi_words):\n",
    "            transliterate[eword] = hword\n",
    "\n",
    "len(transliterate)\n"
   ]
  },
  {
   "cell_type": "code",
   "execution_count": 17,
   "metadata": {},
   "outputs": [
    {
     "data": {
      "text/plain": [
       "38320"
      ]
     },
     "execution_count": 17,
     "metadata": {},
     "output_type": "execute_result"
    }
   ],
   "source": [
    "for i in range(1, 19):\n",
    "    filename = \"Downloads/DE/\" \"user-\" + str(i) + \".txt\"\n",
    "    file = open(filename, \"r\",encoding = \"utf8\")\n",
    "    english_sentence = file.readline()\n",
    "    while (english_sentence != ''):\n",
    "        english_sentence = file.readline()\n",
    "        if (english_sentence=='\\r\\n'):\n",
    "            english_sentence = file.readline()\n",
    "        hindi_sentence = file.readline()\n",
    "        english_words = english_sentence.split(';')\n",
    "        hindi_words = hindi_sentence.split(';')\n",
    "        for eword, hword in zip(english_words, hindi_words):\n",
    "            transliterate[eword] = hword\n",
    "\n",
    "len(transliterate)"
   ]
  },
  {
   "cell_type": "code",
   "execution_count": 22,
   "metadata": {},
   "outputs": [],
   "source": [
    "hindi2eng = {}\n",
    "\n",
    "with open(\"Downloads/UW-Hindi_Dict-20131003.txt\",encoding = \"utf8\") as f:\n",
    "    for line in f:\n",
    "        #print(line.partition('[')[-1].rpartition(']')[0])\n",
    "        #print(line.partition('\"')[-1].rpartition('\"')[0])\n",
    "        #print(line.split()[0].split('[')[1].split(']')[0])\n",
    "        hindi2eng[line.partition('[')[-1].rpartition(']')[0]] = line.partition('\"')[-1].rpartition('\"')[0]\n",
    "\n",
    "with open(\"Downloads/hindi_function_word_dictionary.txt\",encoding = \"utf8\") as f:\n",
    "    for line in f:\n",
    "        #print(line.partition('[')[-1].rpartition(']')[0])\n",
    "        #print(line.partition('\"')[-1].rpartition('\"')[0])\n",
    "        #print(line.split()[0].split('[')[1].split(']')[0])\n",
    "        hindi2eng[line.partition('[')[-1].rpartition(']')[0]] = line.partition('\"')[-1].rpartition('\"')[0]\n"
   ]
  },
  {
   "cell_type": "code",
   "execution_count": 23,
   "metadata": {},
   "outputs": [],
   "source": [
    "translate = {}\n",
    "\n",
    "for element in transliterate:\n",
    "    if (transliterate[element] in hindi2eng):\n",
    "        translate[element] = hindi2eng[transliterate[element]]\n",
    "\n",
    "# print len(translate)\n",
    "\n",
    "translate_file = open(\"dictionary.pickle\",\"wb\")\n",
    "pickle.dump(translate, translate_file)\n",
    "translate_file.close()"
   ]
  },
  {
   "cell_type": "code",
   "execution_count": null,
   "metadata": {},
   "outputs": [],
   "source": []
  }
 ],
 "metadata": {
  "kernelspec": {
   "display_name": "Python 3",
   "language": "python",
   "name": "python3"
  },
  "language_info": {
   "codemirror_mode": {
    "name": "ipython",
    "version": 3
   },
   "file_extension": ".py",
   "mimetype": "text/x-python",
   "name": "python",
   "nbconvert_exporter": "python",
   "pygments_lexer": "ipython3",
   "version": "3.8.5"
  }
 },
 "nbformat": 4,
 "nbformat_minor": 4
}
