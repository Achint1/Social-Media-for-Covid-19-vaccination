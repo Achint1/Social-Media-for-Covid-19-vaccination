{
  "nbformat": 4,
  "nbformat_minor": 0,
  "metadata": {
    "colab": {
      "name": "main Feature1.ipynb",
      "provenance": [],
      "collapsed_sections": []
    },
    "kernelspec": {
      "name": "python3",
      "display_name": "Python 3"
    },
    "language_info": {
      "name": "python"
    }
  },
  "cells": [
    {
      "cell_type": "code",
      "metadata": {
        "id": "cC7z_2dy_5ja",
        "colab": {
          "base_uri": "https://localhost:8080/"
        },
        "outputId": "5c742a9f-b046-4b85-b246-016788529a24"
      },
      "source": [
        "from google.colab import drive\n",
        "drive.mount('/content/gdrive')"
      ],
      "execution_count": null,
      "outputs": [
        {
          "output_type": "stream",
          "text": [
            "Mounted at /content/gdrive\n"
          ],
          "name": "stdout"
        }
      ]
    },
    {
      "cell_type": "code",
      "metadata": {
        "colab": {
          "base_uri": "https://localhost:8080/"
        },
        "id": "OP_XCBVw4c0Z",
        "outputId": "5383a5b6-f452-4334-e20a-800b3073e5e0"
      },
      "source": [
        "import nltk\n",
        "nltk.download('stopwords')\n",
        "nltk.download('wordnet')\n",
        "# type d => <enter> => stopwords => <enter>\n",
        "# type d => <enter> => wordnet => <enter> => q"
      ],
      "execution_count": null,
      "outputs": [
        {
          "output_type": "stream",
          "text": [
            "[nltk_data] Downloading package stopwords to /root/nltk_data...\n",
            "[nltk_data]   Package stopwords is already up-to-date!\n",
            "[nltk_data] Downloading package wordnet to /root/nltk_data...\n",
            "[nltk_data]   Package wordnet is already up-to-date!\n"
          ],
          "name": "stdout"
        },
        {
          "output_type": "execute_result",
          "data": {
            "text/plain": [
              "True"
            ]
          },
          "metadata": {
            "tags": []
          },
          "execution_count": 61
        }
      ]
    },
    {
      "cell_type": "code",
      "metadata": {
        "colab": {
          "base_uri": "https://localhost:8080/"
        },
        "id": "Tx0Psjnw9FBi",
        "outputId": "2aaab707-e3f6-4300-f860-09b69df20f65"
      },
      "source": [
        "import pandas as pd\n",
        "import numpy as np\n",
        "df = pd.read_csv('gdrive/MyDrive/researchProjectIME/new_df_marked.csv')[:401]\n",
        "df.drop_duplicates(subset=['tweet'])\n",
        "print('Out of {} tweets, {} are demanding vaccines and {} are not.'.format(len(df), len(df[df['Imad'] == 1]), len(df[df['Imad'] == 0])))"
      ],
      "execution_count": null,
      "outputs": [
        {
          "output_type": "stream",
          "text": [
            "Out of 401 tweets, 146 are demanding vaccines and 255 are not.\n"
          ],
          "name": "stdout"
        }
      ]
    },
    {
      "cell_type": "code",
      "metadata": {
        "id": "gIRri1ck_jCZ"
      },
      "source": [
        "import re\n",
        "import string\n",
        "\n",
        "def clean(txt: str):\n",
        "  txt = re.sub(r'@[A-Za-z0-9_]+', '', txt)\n",
        "  txt = re.sub(r'&amp', 'and', txt)\n",
        "  txt = re.sub('#', '', txt)\n",
        "  txt = re.sub(r'RT', '', txt)\n",
        "  txt = re.sub(r'https?:\\/\\/[A-Za-z0-9\\.\\/]+', '', txt)\n",
        "  txt = ''.join([c for c in txt if c not in string.punctuation])\n",
        "  txt = txt.lower()\n",
        "  #for c in string.punctuation:\n",
        "  #  txt = re.sub(c, '', txt)\n",
        "  return txt\n",
        "\n",
        "def tokenize(text: str):\n",
        "  tokens = re.split('\\W+', text)\n",
        "  return tokens"
      ],
      "execution_count": null,
      "outputs": []
    },
    {
      "cell_type": "code",
      "metadata": {
        "id": "w8cQJEPKB79g"
      },
      "source": [
        "stopwords = nltk.corpus.stopwords.words('english')\n",
        "\n",
        "def removeStopwords(tokens):\n",
        "  ret = [token for token in tokens if token not in stopwords]\n",
        "  ret = [token for token in tokens if token != '']\n",
        "  return ret"
      ],
      "execution_count": null,
      "outputs": []
    },
    {
      "cell_type": "code",
      "metadata": {
        "id": "bco9NFbnClwD"
      },
      "source": [
        "wn = nltk.WordNetLemmatizer()\n",
        "\n",
        "def lemmatize(tokens):\n",
        "  ret = [wn.lemmatize(token) for token in tokens]\n",
        "  return ret\n",
        "\n",
        "def finalClean(txt: str):\n",
        "  return lemmatize(removeStopwords(tokenize(clean(txt))))\n",
        "\n",
        "dDict = open('gdrive/MyDrive/researchProjectIME/data_dictionar.txt', 'r').read().split('\\n')\n",
        "\n",
        "def dictPercent(words):\n",
        "  s = 0\n",
        "  for word in words:\n",
        "    if word in dDict:\n",
        "      s += 1\n",
        "  return 100 * s / len(words)\n",
        "\n",
        "df['final'] = df['tweet'].apply(finalClean)\n",
        "df['dict%'] = df['final'].apply(dictPercent)"
      ],
      "execution_count": null,
      "outputs": []
    },
    {
      "cell_type": "code",
      "metadata": {
        "colab": {
          "base_uri": "https://localhost:8080/",
          "height": 265
        },
        "id": "qJ0XRFIVSfWr",
        "outputId": "01fe975d-1f37-4aab-960f-28e36697223a"
      },
      "source": [
        "bins = np.linspace(0, 25, 25)\n",
        "\n",
        "import matplotlib.pyplot as plt\n",
        "plt.hist(df[df['Imad']==0]['dict%'], bins, alpha=0.5, label='0')\n",
        "plt.hist(df[df['Imad']==1]['dict%'], bins, alpha=0.5, label='1')\n",
        "plt.legend(loc='upper right')\n",
        "plt.show()"
      ],
      "execution_count": null,
      "outputs": [
        {
          "output_type": "display_data",
          "data": {
            "image/png": "[encoded data removed]",
            "text/plain": [
              "<Figure size 432x288 with 1 Axes>"
            ]
          },
          "metadata": {
            "tags": [],
            "needs_background": "light"
          }
        }
      ]
    },
    {
      "cell_type": "code",
      "metadata": {
        "id": "BMDBoyNfiRb-"
      },
      "source": [
        "df.to_csv('new_df_marked_cleaned.csv')"
      ],
      "execution_count": null,
      "outputs": []
    },
    {
      "cell_type": "code",
      "metadata": {
        "colab": {
          "base_uri": "https://localhost:8080/",
          "height": 296
        },
        "id": "18hj6E35EULv",
        "outputId": "2c57c089-baab-4074-c47f-663e1d98981b"
      },
      "source": [
        "#!pip list | grep scikit-learn || pip install scikit-learn\n",
        "from sklearn.feature_extraction.text import CountVectorizer\n",
        "from sklearn.ensemble import RandomForestClassifier\n",
        "from sklearn.model_selection import train_test_split\n",
        "from sklearn.metrics import precision_recall_fscore_support as score\n",
        "from sklearn.metrics import accuracy_score as acs\n",
        "from sklearn.metrics import confusion_matrix\n",
        "import seaborn as sns\n",
        "\n",
        "X = df[['tweet','dict%']]\n",
        "y = df['Imad']\n",
        "X_train, X_test, y_train, y_test = train_test_split(X, y, test_size=0.25, random_state=42)\n",
        "\n",
        "countVect = CountVectorizer(analyzer=finalClean)\n",
        "count_fit_train = countVect.fit_transform(X_train['tweet'])\n",
        "count_fit_test = countVect.transform(X_test['tweet'])\n",
        "\n",
        "X_train_vec = pd.DataFrame(count_fit_train.toarray())\n",
        "X_test_vec = pd.DataFrame(count_fit_test.toarray())\n",
        "\n",
        "rf = RandomForestClassifier(n_estimators=150, max_depth=None, n_jobs=-1)\n",
        "rf_model = rf.fit(X_train_vec, y_train)\n",
        "y_pred = rf_model.predict(X_test_vec)\n",
        "\n",
        "precision, recall, fscore, train_support = score(y_test, y_pred, pos_label=1, average='binary')\n",
        "\n",
        "cm = confusion_matrix(y_test, y_pred)\n",
        "class_label = [\"no_demand\", \"demand\"]\n",
        "df_cm = pd.DataFrame(cm, index=class_label,columns=class_label)\n",
        "sns.heatmap(df_cm, annot=True, fmt='d')\n",
        "plt.title(\"Confusion Matrix\")\n",
        "plt.xlabel(\"Predicted Label\")\n",
        "plt.ylabel(\"True Label\")\n",
        "plt.show()"
      ],
      "execution_count": null,
      "outputs": [
        {
          "output_type": "display_data",
          "data": {
            "image/png": "[encoded data removed]",
            "text/plain": [
              "<Figure size 432x288 with 2 Axes>"
            ]
          },
          "metadata": {
            "tags": [],
            "needs_background": "light"
          }
        }
      ]
    },
    {
      "cell_type": "code",
      "metadata": {
        "colab": {
          "base_uri": "https://localhost:8080/"
        },
        "id": "McDeQYtgkasb",
        "outputId": "a646edee-ab5b-469b-ba00-f2c488783c74"
      },
      "source": [
        "print(precision, recall, fscore, acs(y_test, y_pred))"
      ],
      "execution_count": null,
      "outputs": [
        {
          "output_type": "stream",
          "text": [
            "0.8947368421052632 0.8292682926829268 0.860759493670886 0.8910891089108911\n"
          ],
          "name": "stdout"
        }
      ]
    },
    {
      "cell_type": "code",
      "metadata": {
        "id": "yijWbTbH1yts"
      },
      "source": [
        "df_pred = pd.read_csv('gdrive/MyDrive/researchProjectIME/patna_clea.csv')[401:500]\n",
        "X_to_pred = pd.DataFrame(countVect.transform(df_pred['tweet']).toarray())\n",
        "y_to_pred = rf_model.predict(X_to_pred)\n",
        "df_pred['predicted'] = y_to_pred\n",
        "df_pred.to_csv('predicted_tts.csv')"
      ],
      "execution_count": null,
      "outputs": []
    },
    {
      "cell_type": "code",
      "metadata": {
        "id": "s31P1STX4y4F"
      },
      "source": [
        "def predict(text: str):\n",
        "  df_pr = pd.DataFrame([[text]], columns=['tweet'])\n",
        "  features = pd.DataFrame(countVect.transform(df_pr['tweet']).toarray())\n",
        "  y_pr = rf_model.predict(features)\n",
        "  return y_pr"
      ],
      "execution_count": null,
      "outputs": []
    },
    {
      "cell_type": "code",
      "metadata": {
        "colab": {
          "base_uri": "https://localhost:8080/"
        },
        "id": "TySkH1cR9E5R",
        "outputId": "3065af05-df25-4316-c6de-240632b3750f"
      },
      "source": [
        "print(predict('want vaccine'))"
      ],
      "execution_count": null,
      "outputs": [
        {
          "output_type": "stream",
          "text": [
            "[0.]\n"
          ],
          "name": "stdout"
        }
      ]
    },
    {
      "cell_type": "code",
      "metadata": {
        "colab": {
          "base_uri": "https://localhost:8080/"
        },
        "id": "asDRioH4IjQ5",
        "outputId": "09ae094c-f27a-44b2-9088-e48aad0b87c6"
      },
      "source": [
        "df = pd.read_csv('gdrive/MyDrive/researchProjectIME/patna_clea.csv')\n",
        "print(len(df))\n",
        "df.sort_values('tweet', inplace=True)\n",
        "df.to_csv('delet1.csv')\n",
        "df.drop_duplicates(subset='tweet', keep=False, inplace=True)\n",
        "df.to_csv('delet2.csv')"
      ],
      "execution_count": null,
      "outputs": [
        {
          "output_type": "stream",
          "text": [
            "3176\n"
          ],
          "name": "stdout"
        }
      ]
    },
    {
      "cell_type": "code",
      "metadata": {
        "id": "PcAwYNqNJtvZ"
      },
      "source": [
        "#new work"
      ],
      "execution_count": null,
      "outputs": []
    },
    {
      "cell_type": "code",
      "metadata": {
        "id": "X7YjCeBicwQ8"
      },
      "source": [
        ""
      ],
      "execution_count": null,
      "outputs": []
    }
  ]
}