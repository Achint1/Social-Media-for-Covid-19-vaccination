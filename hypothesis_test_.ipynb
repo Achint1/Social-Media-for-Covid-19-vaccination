{
  "nbformat": 4,
  "nbformat_minor": 0,
  "metadata": {
    "colab": {
      "name": "hypothesis test .ipynb",
      "provenance": []
    },
    "kernelspec": {
      "name": "python3",
      "display_name": "Python 3"
    },
    "language_info": {
      "name": "python"
    }
  },
  "cells": [
    {
      "cell_type": "code",
      "metadata": {
        "id": "wvxDWRXPzb6d"
      },
      "source": [
        "import pandas as pd \n",
        "df1 = pd.read_csv('sl.csv')"
      ],
      "execution_count": null,
      "outputs": []
    },
    {
      "cell_type": "code",
      "metadata": {
        "colab": {
          "base_uri": "https://localhost:8080/"
        },
        "id": "eKgjb-qy3spb",
        "outputId": "8ef7e9c1-3951-41dd-9624-57e60dae3e43"
      },
      "source": [
        "df1.info()"
      ],
      "execution_count": null,
      "outputs": [
        {
          "output_type": "stream",
          "text": [
            "<class 'pandas.core.frame.DataFrame'>\n",
            "RangeIndex: 2331 entries, 0 to 2330\n",
            "Data columns (total 11 columns):\n",
            " #   Column        Non-Null Count  Dtype \n",
            "---  ------        --------------  ----- \n",
            " 0   Unnamed: 0    2331 non-null   int64 \n",
            " 1   Unnamed: 0.1  2331 non-null   int64 \n",
            " 2   date          2331 non-null   object\n",
            " 3   tweet         2331 non-null   object\n",
            " 4   language      2331 non-null   object\n",
            " 5   hashtags      2331 non-null   object\n",
            " 6   nlikes        2331 non-null   int64 \n",
            " 7   nreplies      2331 non-null   int64 \n",
            " 8   nlikes.1      2331 non-null   int64 \n",
            " 9   nretweets     2331 non-null   int64 \n",
            " 10  t             2331 non-null   int64 \n",
            "dtypes: int64(7), object(4)\n",
            "memory usage: 200.4+ KB\n"
          ],
          "name": "stdout"
        }
      ]
    },
    {
      "cell_type": "code",
      "metadata": {
        "colab": {
          "base_uri": "https://localhost:8080/"
        },
        "id": "jOjTXg_e0ZbQ",
        "outputId": "d4340464-48b7-4aad-b244-65bb2d1e531a"
      },
      "source": [
        "pip install nltk"
      ],
      "execution_count": null,
      "outputs": [
        {
          "output_type": "stream",
          "text": [
            "Requirement already satisfied: nltk in /usr/local/lib/python3.7/dist-packages (3.2.5)\n",
            "Requirement already satisfied: six in /usr/local/lib/python3.7/dist-packages (from nltk) (1.15.0)\n"
          ],
          "name": "stdout"
        }
      ]
    },
    {
      "cell_type": "code",
      "metadata": {
        "colab": {
          "base_uri": "https://localhost:8080/"
        },
        "id": "cMYGvw5q0P3u",
        "outputId": "d3f9e254-9bf5-4066-d799-b466ef888645"
      },
      "source": [
        "import nltk\n",
        "nltk.download('vader_lexicon')\n",
        "from nltk.sentiment.vader import SentimentIntensityAnalyzer\n",
        "\n",
        "sid = SentimentIntensityAnalyzer()"
      ],
      "execution_count": null,
      "outputs": [
        {
          "output_type": "stream",
          "text": [
            "[nltk_data] Downloading package vader_lexicon to /root/nltk_data...\n",
            "[nltk_data]   Package vader_lexicon is already up-to-date!\n"
          ],
          "name": "stdout"
        },
        {
          "output_type": "stream",
          "text": [
            "/usr/local/lib/python3.7/dist-packages/nltk/twitter/__init__.py:20: UserWarning: The twython library has not been installed. Some functionality from the twitter package will not be available.\n",
            "  warnings.warn(\"The twython library has not been installed. \"\n"
          ],
          "name": "stderr"
        }
      ]
    },
    {
      "cell_type": "code",
      "metadata": {
        "id": "cptgJRhC0dVX"
      },
      "source": [
        "a = ''\n",
        "c = sid.polarity_scores(a)"
      ],
      "execution_count": null,
      "outputs": []
    },
    {
      "cell_type": "code",
      "metadata": {
        "colab": {
          "base_uri": "https://localhost:8080/"
        },
        "id": "acBo1I9r04sb",
        "outputId": "8c5d17a7-1781-4fe1-bd7c-55b031aecdee"
      },
      "source": [
        "c"
      ],
      "execution_count": null,
      "outputs": [
        {
          "output_type": "execute_result",
          "data": {
            "text/plain": [
              "{'compound': 0.0, 'neg': 0.0, 'neu': 0.0, 'pos': 0.0}"
            ]
          },
          "metadata": {
            "tags": []
          },
          "execution_count": 37
        }
      ]
    },
    {
      "cell_type": "code",
      "metadata": {
        "colab": {
          "base_uri": "https://localhost:8080/"
        },
        "id": "AF1zsZdD1PSX",
        "outputId": "690eee39-068a-4bb7-8d49-1650c511e6db"
      },
      "source": [
        "c['compound']"
      ],
      "execution_count": null,
      "outputs": [
        {
          "output_type": "execute_result",
          "data": {
            "text/plain": [
              "0.0"
            ]
          },
          "metadata": {
            "tags": []
          },
          "execution_count": 38
        }
      ]
    },
    {
      "cell_type": "code",
      "metadata": {
        "id": "tBTRChpY1oXP"
      },
      "source": [
        ""
      ],
      "execution_count": null,
      "outputs": []
    },
    {
      "cell_type": "code",
      "metadata": {
        "id": "sylJhqSR1ugy"
      },
      "source": [
        ""
      ],
      "execution_count": null,
      "outputs": []
    },
    {
      "cell_type": "code",
      "metadata": {
        "colab": {
          "base_uri": "https://localhost:8080/"
        },
        "id": "knH3QHdn4g3c",
        "outputId": "ed3d3344-548b-4fea-c675-3d54cdc03da8"
      },
      "source": [
        "df1.info()\n",
        "#df1 = df1.sort_values(by=\"date\")\n",
        "df1.date.head(500)\n",
        "#df1.to_csv('ll.csv')"
      ],
      "execution_count": null,
      "outputs": [
        {
          "output_type": "stream",
          "text": [
            "<class 'pandas.core.frame.DataFrame'>\n",
            "RangeIndex: 2331 entries, 0 to 2330\n",
            "Data columns (total 11 columns):\n",
            " #   Column        Non-Null Count  Dtype \n",
            "---  ------        --------------  ----- \n",
            " 0   Unnamed: 0    2331 non-null   int64 \n",
            " 1   Unnamed: 0.1  2331 non-null   int64 \n",
            " 2   date          2331 non-null   object\n",
            " 3   tweet         2331 non-null   object\n",
            " 4   language      2331 non-null   object\n",
            " 5   hashtags      2331 non-null   object\n",
            " 6   nlikes        2331 non-null   int64 \n",
            " 7   nreplies      2331 non-null   int64 \n",
            " 8   nlikes.1      2331 non-null   int64 \n",
            " 9   nretweets     2331 non-null   int64 \n",
            " 10  t             2331 non-null   int64 \n",
            "dtypes: int64(7), object(4)\n",
            "memory usage: 200.4+ KB\n"
          ],
          "name": "stdout"
        },
        {
          "output_type": "execute_result",
          "data": {
            "text/plain": [
              "0      04/03/2021 15:15\n",
              "1      04/03/2021 15:01\n",
              "2      04/03/2021 11:18\n",
              "3      03/03/2021 21:35\n",
              "4       25/02/2021 7:45\n",
              "             ...       \n",
              "495     27/02/2021 9:49\n",
              "496     27/02/2021 8:51\n",
              "497     27/02/2021 8:46\n",
              "498     27/02/2021 8:40\n",
              "499     27/02/2021 8:05\n",
              "Name: date, Length: 500, dtype: object"
            ]
          },
          "metadata": {
            "tags": []
          },
          "execution_count": 5
        }
      ]
    },
    {
      "cell_type": "code",
      "metadata": {
        "id": "VY_db1qZ4ouB"
      },
      "source": [
        "df1['date'] = df1['date'].map(lambda x: x[0:10])"
      ],
      "execution_count": null,
      "outputs": []
    },
    {
      "cell_type": "code",
      "metadata": {
        "id": "G8Lz6Cr943ZH"
      },
      "source": [
        "category =[]\n",
        "for i in range(2331):\n",
        "  if(df1['date'][i]=='25/02/2021'):\n",
        "    category.append(1)\n",
        "  if(df1['date'][i]=='26/02/2021'):\n",
        "    category.append(2)\n",
        "  if(df1['date'][i]=='27/02/2021'):\n",
        "    category.append(3)\n",
        "  if(df1['date'][i]=='28/02/2021'):\n",
        "    category.append(4)\n",
        "  if(df1['date'][i]=='01/03/2021'):\n",
        "    category.append(5)\n",
        "  if(df1['date'][i]=='02/03/2021'):\n",
        "    category.append(6)\n",
        "  if(df1['date'][i]=='03/03/2021'):\n",
        "    category.append(7)\n",
        "  if(df1['date'][i]=='04/03/2021'):\n",
        "    category.append(8)\n",
        "  if(df1['date'][i]=='05/03/2021'):\n",
        "    category.append(9)\n",
        "df1['category'] = category "
      ],
      "execution_count": null,
      "outputs": []
    },
    {
      "cell_type": "code",
      "metadata": {
        "colab": {
          "base_uri": "https://localhost:8080/",
          "height": 1000
        },
        "id": "76Dv3mpQ53Us",
        "outputId": "bc54115d-6832-44d7-bef7-21041bac88b0"
      },
      "source": [
        "for i in range(2331):\n",
        "  if(df1['date'][i]=='25/02/2021'):\n",
        "    df1['category'][i] = 1\n",
        "  if(df1['date'][i]=='26/02/2021'):\n",
        "    df1['category'][i] = 2\n",
        "  if(df1['date'][i]=='27/02/2021'):\n",
        "    df1['category'][i] = 3\n",
        "  if(df1['date'][i]=='28/02/2021'):\n",
        "    df1['category'][i] = 4\n",
        "  if(df1['date'][i]=='01/03/2021'):\n",
        "    df1['category'][i] = 5\n",
        "  if(df1['date'][i]=='02/03/2021'):\n",
        "    df1['category'][i] = 6\n",
        "  if(df1['date'][i]=='03/03/2021'):\n",
        "    df1['category'][i] = 7\n",
        "  if(df1['date'][i]=='04/03/2021'):\n",
        "    df1['category'][i] = 8\n",
        "  if(df1['date'][i]=='05/03/2021'):\n",
        "    df1['category'][i] = 9\n",
        "\n",
        "df1 = df1.sort_values(by=\"category\")\n",
        "df1.head(50)"
      ],
      "execution_count": null,
      "outputs": [
        {
          "output_type": "stream",
          "text": [
            "/usr/local/lib/python3.7/dist-packages/ipykernel_launcher.py:17: SettingWithCopyWarning: \n",
            "A value is trying to be set on a copy of a slice from a DataFrame\n",
            "\n",
            "See the caveats in the documentation: https://pandas.pydata.org/pandas-docs/stable/user_guide/indexing.html#returning-a-view-versus-a-copy\n",
            "/usr/local/lib/python3.7/dist-packages/ipykernel_launcher.py:15: SettingWithCopyWarning: \n",
            "A value is trying to be set on a copy of a slice from a DataFrame\n",
            "\n",
            "See the caveats in the documentation: https://pandas.pydata.org/pandas-docs/stable/user_guide/indexing.html#returning-a-view-versus-a-copy\n",
            "  from ipykernel import kernelapp as app\n",
            "/usr/local/lib/python3.7/dist-packages/ipykernel_launcher.py:3: SettingWithCopyWarning: \n",
            "A value is trying to be set on a copy of a slice from a DataFrame\n",
            "\n",
            "See the caveats in the documentation: https://pandas.pydata.org/pandas-docs/stable/user_guide/indexing.html#returning-a-view-versus-a-copy\n",
            "  This is separate from the ipykernel package so we can avoid doing imports until\n",
            "/usr/local/lib/python3.7/dist-packages/ipykernel_launcher.py:13: SettingWithCopyWarning: \n",
            "A value is trying to be set on a copy of a slice from a DataFrame\n",
            "\n",
            "See the caveats in the documentation: https://pandas.pydata.org/pandas-docs/stable/user_guide/indexing.html#returning-a-view-versus-a-copy\n",
            "  del sys.path[0]\n",
            "/usr/local/lib/python3.7/dist-packages/ipykernel_launcher.py:11: SettingWithCopyWarning: \n",
            "A value is trying to be set on a copy of a slice from a DataFrame\n",
            "\n",
            "See the caveats in the documentation: https://pandas.pydata.org/pandas-docs/stable/user_guide/indexing.html#returning-a-view-versus-a-copy\n",
            "  # This is added back by InteractiveShellApp.init_path()\n",
            "/usr/local/lib/python3.7/dist-packages/ipykernel_launcher.py:19: SettingWithCopyWarning: \n",
            "A value is trying to be set on a copy of a slice from a DataFrame\n",
            "\n",
            "See the caveats in the documentation: https://pandas.pydata.org/pandas-docs/stable/user_guide/indexing.html#returning-a-view-versus-a-copy\n",
            "/usr/local/lib/python3.7/dist-packages/ipykernel_launcher.py:9: SettingWithCopyWarning: \n",
            "A value is trying to be set on a copy of a slice from a DataFrame\n",
            "\n",
            "See the caveats in the documentation: https://pandas.pydata.org/pandas-docs/stable/user_guide/indexing.html#returning-a-view-versus-a-copy\n",
            "  if __name__ == '__main__':\n",
            "/usr/local/lib/python3.7/dist-packages/ipykernel_launcher.py:7: SettingWithCopyWarning: \n",
            "A value is trying to be set on a copy of a slice from a DataFrame\n",
            "\n",
            "See the caveats in the documentation: https://pandas.pydata.org/pandas-docs/stable/user_guide/indexing.html#returning-a-view-versus-a-copy\n",
            "  import sys\n",
            "/usr/local/lib/python3.7/dist-packages/ipykernel_launcher.py:5: SettingWithCopyWarning: \n",
            "A value is trying to be set on a copy of a slice from a DataFrame\n",
            "\n",
            "See the caveats in the documentation: https://pandas.pydata.org/pandas-docs/stable/user_guide/indexing.html#returning-a-view-versus-a-copy\n",
            "  \"\"\"\n"
          ],
          "name": "stderr"
        },
        {
          "output_type": "execute_result",
          "data": {
            "text/html": [
              "<div>\n",
              "<style scoped>\n",
              "    .dataframe tbody tr th:only-of-type {\n",
              "        vertical-align: middle;\n",
              "    }\n",
              "\n",
              "    .dataframe tbody tr th {\n",
              "        vertical-align: top;\n",
              "    }\n",
              "\n",
              "    .dataframe thead th {\n",
              "        text-align: right;\n",
              "    }\n",
              "</style>\n",
              "<table border=\"1\" class=\"dataframe\">\n",
              "  <thead>\n",
              "    <tr style=\"text-align: right;\">\n",
              "      <th></th>\n",
              "      <th>Unnamed: 0</th>\n",
              "      <th>Unnamed: 0.1</th>\n",
              "      <th>date</th>\n",
              "      <th>tweet</th>\n",
              "      <th>language</th>\n",
              "      <th>hashtags</th>\n",
              "      <th>nlikes</th>\n",
              "      <th>nreplies</th>\n",
              "      <th>nlikes.1</th>\n",
              "      <th>nretweets</th>\n",
              "      <th>t</th>\n",
              "      <th>category</th>\n",
              "    </tr>\n",
              "  </thead>\n",
              "  <tbody>\n",
              "    <tr>\n",
              "      <th>2330</th>\n",
              "      <td>2330</td>\n",
              "      <td>2366</td>\n",
              "      <td>25/02/2021</td>\n",
              "      <td>Alarming Sign - 1. Testing should tremendous...</td>\n",
              "      <td>en</td>\n",
              "      <td>[]</td>\n",
              "      <td>0</td>\n",
              "      <td>0</td>\n",
              "      <td>0</td>\n",
              "      <td>0</td>\n",
              "      <td>11</td>\n",
              "      <td>1</td>\n",
              "    </tr>\n",
              "    <tr>\n",
              "      <th>2125</th>\n",
              "      <td>2125</td>\n",
              "      <td>2155</td>\n",
              "      <td>25/02/2021</td>\n",
              "      <td>HKNR — How China's one-child policy created ma...</td>\n",
              "      <td>en</td>\n",
              "      <td>[]</td>\n",
              "      <td>0</td>\n",
              "      <td>0</td>\n",
              "      <td>0</td>\n",
              "      <td>1</td>\n",
              "      <td>37</td>\n",
              "      <td>1</td>\n",
              "    </tr>\n",
              "    <tr>\n",
              "      <th>2124</th>\n",
              "      <td>2124</td>\n",
              "      <td>2154</td>\n",
              "      <td>25/02/2021</td>\n",
              "      <td>vaccination done 💉 ✅.</td>\n",
              "      <td>en</td>\n",
              "      <td>['covid19']</td>\n",
              "      <td>1</td>\n",
              "      <td>0</td>\n",
              "      <td>1</td>\n",
              "      <td>0</td>\n",
              "      <td>4</td>\n",
              "      <td>1</td>\n",
              "    </tr>\n",
              "    <tr>\n",
              "      <th>2123</th>\n",
              "      <td>2123</td>\n",
              "      <td>2153</td>\n",
              "      <td>25/02/2021</td>\n",
              "      <td>Can any body tell me when to register fo...</td>\n",
              "      <td>en</td>\n",
              "      <td>[]</td>\n",
              "      <td>0</td>\n",
              "      <td>0</td>\n",
              "      <td>0</td>\n",
              "      <td>0</td>\n",
              "      <td>29</td>\n",
              "      <td>1</td>\n",
              "    </tr>\n",
              "    <tr>\n",
              "      <th>2122</th>\n",
              "      <td>2122</td>\n",
              "      <td>2152</td>\n",
              "      <td>25/02/2021</td>\n",
              "      <td>So after taking the vaccination, no need to ...</td>\n",
              "      <td>en</td>\n",
              "      <td>[]</td>\n",
              "      <td>0</td>\n",
              "      <td>1</td>\n",
              "      <td>0</td>\n",
              "      <td>0</td>\n",
              "      <td>10</td>\n",
              "      <td>1</td>\n",
              "    </tr>\n",
              "    <tr>\n",
              "      <th>2121</th>\n",
              "      <td>2121</td>\n",
              "      <td>2151</td>\n",
              "      <td>25/02/2021</td>\n",
              "      <td>Selangor Journal | Businesses urged to pursue ...</td>\n",
              "      <td>en</td>\n",
              "      <td>[]</td>\n",
              "      <td>1</td>\n",
              "      <td>0</td>\n",
              "      <td>1</td>\n",
              "      <td>1</td>\n",
              "      <td>14</td>\n",
              "      <td>1</td>\n",
              "    </tr>\n",
              "    <tr>\n",
              "      <th>2120</th>\n",
              "      <td>2120</td>\n",
              "      <td>2150</td>\n",
              "      <td>25/02/2021</td>\n",
              "      <td>Malaysia,3rd ASEAN nation to start National Va...</td>\n",
              "      <td>en</td>\n",
              "      <td>[]</td>\n",
              "      <td>1</td>\n",
              "      <td>0</td>\n",
              "      <td>1</td>\n",
              "      <td>0</td>\n",
              "      <td>29</td>\n",
              "      <td>1</td>\n",
              "    </tr>\n",
              "    <tr>\n",
              "      <th>2119</th>\n",
              "      <td>2119</td>\n",
              "      <td>2149</td>\n",
              "      <td>25/02/2021</td>\n",
              "      <td>More vaccines arrive in Sri Lanka even as Covi...</td>\n",
              "      <td>en</td>\n",
              "      <td>['covid19vaccine', 'astrazeneca', 'vaccine', '...</td>\n",
              "      <td>1</td>\n",
              "      <td>0</td>\n",
              "      <td>1</td>\n",
              "      <td>0</td>\n",
              "      <td>20</td>\n",
              "      <td>1</td>\n",
              "    </tr>\n",
              "    <tr>\n",
              "      <th>2118</th>\n",
              "      <td>2118</td>\n",
              "      <td>2148</td>\n",
              "      <td>25/02/2021</td>\n",
              "      <td>Hope the Government with All States on Board a...</td>\n",
              "      <td>en</td>\n",
              "      <td>[]</td>\n",
              "      <td>5</td>\n",
              "      <td>2</td>\n",
              "      <td>5</td>\n",
              "      <td>1</td>\n",
              "      <td>31</td>\n",
              "      <td>1</td>\n",
              "    </tr>\n",
              "    <tr>\n",
              "      <th>2117</th>\n",
              "      <td>2117</td>\n",
              "      <td>2147</td>\n",
              "      <td>25/02/2021</td>\n",
              "      <td>They’ve announced that vaccination will be f...</td>\n",
              "      <td>en</td>\n",
              "      <td>[]</td>\n",
              "      <td>0</td>\n",
              "      <td>1</td>\n",
              "      <td>0</td>\n",
              "      <td>0</td>\n",
              "      <td>26</td>\n",
              "      <td>1</td>\n",
              "    </tr>\n",
              "    <tr>\n",
              "      <th>2126</th>\n",
              "      <td>2126</td>\n",
              "      <td>2156</td>\n",
              "      <td>25/02/2021</td>\n",
              "      <td>Red Cross monitors were not present for the va...</td>\n",
              "      <td>en</td>\n",
              "      <td>[]</td>\n",
              "      <td>0</td>\n",
              "      <td>0</td>\n",
              "      <td>0</td>\n",
              "      <td>0</td>\n",
              "      <td>19</td>\n",
              "      <td>1</td>\n",
              "    </tr>\n",
              "    <tr>\n",
              "      <th>2116</th>\n",
              "      <td>2116</td>\n",
              "      <td>2146</td>\n",
              "      <td>25/02/2021</td>\n",
              "      <td>Before and After vaccination. Jangan jealous.</td>\n",
              "      <td>en</td>\n",
              "      <td>[]</td>\n",
              "      <td>2</td>\n",
              "      <td>0</td>\n",
              "      <td>2</td>\n",
              "      <td>1</td>\n",
              "      <td>6</td>\n",
              "      <td>1</td>\n",
              "    </tr>\n",
              "    <tr>\n",
              "      <th>2114</th>\n",
              "      <td>2114</td>\n",
              "      <td>2144</td>\n",
              "      <td>25/02/2021</td>\n",
              "      <td>10K or more were willing to pay LKR 6K for an ...</td>\n",
              "      <td>en</td>\n",
              "      <td>['covid', 'vaccine', 'vaccination', 'srilanka']</td>\n",
              "      <td>2</td>\n",
              "      <td>0</td>\n",
              "      <td>2</td>\n",
              "      <td>0</td>\n",
              "      <td>46</td>\n",
              "      <td>1</td>\n",
              "    </tr>\n",
              "    <tr>\n",
              "      <th>2113</th>\n",
              "      <td>2113</td>\n",
              "      <td>2143</td>\n",
              "      <td>25/02/2021</td>\n",
              "      <td>Hi   How many weeks should we wait before dona...</td>\n",
              "      <td>en</td>\n",
              "      <td>[]</td>\n",
              "      <td>2</td>\n",
              "      <td>0</td>\n",
              "      <td>2</td>\n",
              "      <td>0</td>\n",
              "      <td>13</td>\n",
              "      <td>1</td>\n",
              "    </tr>\n",
              "    <tr>\n",
              "      <th>2112</th>\n",
              "      <td>2112</td>\n",
              "      <td>2142</td>\n",
              "      <td>25/02/2021</td>\n",
              "      <td>I'm not sure this is correct move. Until we ge...</td>\n",
              "      <td>en</td>\n",
              "      <td>[]</td>\n",
              "      <td>0</td>\n",
              "      <td>0</td>\n",
              "      <td>0</td>\n",
              "      <td>0</td>\n",
              "      <td>22</td>\n",
              "      <td>1</td>\n",
              "    </tr>\n",
              "    <tr>\n",
              "      <th>2111</th>\n",
              "      <td>2111</td>\n",
              "      <td>2141</td>\n",
              "      <td>25/02/2021</td>\n",
              "      <td>The Government of India decided to provide Cov...</td>\n",
              "      <td>en</td>\n",
              "      <td>['covid19', 'vaccine', 'vaccination', 'vaccina...</td>\n",
              "      <td>3</td>\n",
              "      <td>0</td>\n",
              "      <td>3</td>\n",
              "      <td>0</td>\n",
              "      <td>20</td>\n",
              "      <td>1</td>\n",
              "    </tr>\n",
              "    <tr>\n",
              "      <th>2110</th>\n",
              "      <td>2110</td>\n",
              "      <td>2140</td>\n",
              "      <td>25/02/2021</td>\n",
              "      <td>MH is sinking with corona +s  Why not priori...</td>\n",
              "      <td>en</td>\n",
              "      <td>[]</td>\n",
              "      <td>0</td>\n",
              "      <td>0</td>\n",
              "      <td>0</td>\n",
              "      <td>0</td>\n",
              "      <td>12</td>\n",
              "      <td>1</td>\n",
              "    </tr>\n",
              "    <tr>\n",
              "      <th>2109</th>\n",
              "      <td>2109</td>\n",
              "      <td>2139</td>\n",
              "      <td>25/02/2021</td>\n",
              "      <td>Unit Vaccine   collects data and State JKNs co...</td>\n",
              "      <td>en</td>\n",
              "      <td>[]</td>\n",
              "      <td>6</td>\n",
              "      <td>0</td>\n",
              "      <td>6</td>\n",
              "      <td>4</td>\n",
              "      <td>41</td>\n",
              "      <td>1</td>\n",
              "    </tr>\n",
              "    <tr>\n",
              "      <th>2108</th>\n",
              "      <td>2108</td>\n",
              "      <td>2138</td>\n",
              "      <td>25/02/2021</td>\n",
              "      <td>is moving fast with expansion of   campaign ...</td>\n",
              "      <td>en</td>\n",
              "      <td>['bangladesh', 'covid19vaccine', 'dghs']</td>\n",
              "      <td>12</td>\n",
              "      <td>0</td>\n",
              "      <td>12</td>\n",
              "      <td>4</td>\n",
              "      <td>35</td>\n",
              "      <td>1</td>\n",
              "    </tr>\n",
              "    <tr>\n",
              "      <th>2107</th>\n",
              "      <td>2107</td>\n",
              "      <td>2137</td>\n",
              "      <td>25/02/2021</td>\n",
              "      <td>Yup,, got my date for vaccination, 8/3/21 it i...</td>\n",
              "      <td>en</td>\n",
              "      <td>['prihatinrakyat', 'daruratmemerangicovid19']</td>\n",
              "      <td>3</td>\n",
              "      <td>0</td>\n",
              "      <td>3</td>\n",
              "      <td>0</td>\n",
              "      <td>35</td>\n",
              "      <td>1</td>\n",
              "    </tr>\n",
              "    <tr>\n",
              "      <th>2106</th>\n",
              "      <td>2106</td>\n",
              "      <td>2136</td>\n",
              "      <td>25/02/2021</td>\n",
              "      <td>Update: Some people who disagree argues that...</td>\n",
              "      <td>en</td>\n",
              "      <td>['twitterpoll']</td>\n",
              "      <td>0</td>\n",
              "      <td>0</td>\n",
              "      <td>0</td>\n",
              "      <td>0</td>\n",
              "      <td>25</td>\n",
              "      <td>1</td>\n",
              "    </tr>\n",
              "    <tr>\n",
              "      <th>2115</th>\n",
              "      <td>2115</td>\n",
              "      <td>2145</td>\n",
              "      <td>25/02/2021</td>\n",
              "      <td>Got my vaccination date! Bismillah</td>\n",
              "      <td>en</td>\n",
              "      <td>[]</td>\n",
              "      <td>1</td>\n",
              "      <td>0</td>\n",
              "      <td>1</td>\n",
              "      <td>0</td>\n",
              "      <td>5</td>\n",
              "      <td>1</td>\n",
              "    </tr>\n",
              "    <tr>\n",
              "      <th>2105</th>\n",
              "      <td>2105</td>\n",
              "      <td>2135</td>\n",
              "      <td>25/02/2021</td>\n",
              "      <td>why can't vaccines be administered t...</td>\n",
              "      <td>en</td>\n",
              "      <td>[]</td>\n",
              "      <td>0</td>\n",
              "      <td>1</td>\n",
              "      <td>0</td>\n",
              "      <td>0</td>\n",
              "      <td>33</td>\n",
              "      <td>1</td>\n",
              "    </tr>\n",
              "    <tr>\n",
              "      <th>2127</th>\n",
              "      <td>2127</td>\n",
              "      <td>2157</td>\n",
              "      <td>25/02/2021</td>\n",
              "      <td>Free vaccination only for foreigners</td>\n",
              "      <td>en</td>\n",
              "      <td>[]</td>\n",
              "      <td>0</td>\n",
              "      <td>0</td>\n",
              "      <td>0</td>\n",
              "      <td>0</td>\n",
              "      <td>5</td>\n",
              "      <td>1</td>\n",
              "    </tr>\n",
              "    <tr>\n",
              "      <th>2129</th>\n",
              "      <td>2129</td>\n",
              "      <td>2159</td>\n",
              "      <td>25/02/2021</td>\n",
              "      <td>Think of the children 1. Deported to Myanmar t...</td>\n",
              "      <td>en</td>\n",
              "      <td>['myanmarmilitarycoup', 'migranjugamanusia', '...</td>\n",
              "      <td>0</td>\n",
              "      <td>0</td>\n",
              "      <td>0</td>\n",
              "      <td>0</td>\n",
              "      <td>32</td>\n",
              "      <td>1</td>\n",
              "    </tr>\n",
              "    <tr>\n",
              "      <th>543</th>\n",
              "      <td>543</td>\n",
              "      <td>550</td>\n",
              "      <td>25/02/2021</td>\n",
              "      <td>With the highest rate of internet and Mobile d...</td>\n",
              "      <td>en</td>\n",
              "      <td>['srilanka', 'maldives']</td>\n",
              "      <td>2</td>\n",
              "      <td>0</td>\n",
              "      <td>2</td>\n",
              "      <td>1</td>\n",
              "      <td>46</td>\n",
              "      <td>1</td>\n",
              "    </tr>\n",
              "    <tr>\n",
              "      <th>544</th>\n",
              "      <td>544</td>\n",
              "      <td>551</td>\n",
              "      <td>25/02/2021</td>\n",
              "      <td>We are afraid Pakistan dose not get out of thi...</td>\n",
              "      <td>en</td>\n",
              "      <td>['modi_job_do', 'modi_rojgar_do']</td>\n",
              "      <td>1</td>\n",
              "      <td>0</td>\n",
              "      <td>1</td>\n",
              "      <td>2</td>\n",
              "      <td>13</td>\n",
              "      <td>1</td>\n",
              "    </tr>\n",
              "    <tr>\n",
              "      <th>545</th>\n",
              "      <td>545</td>\n",
              "      <td>552</td>\n",
              "      <td>25/02/2021</td>\n",
              "      <td>More than 1.23 Cr   vaccine doses administe...</td>\n",
              "      <td>en</td>\n",
              "      <td>['indiafightscorona', 'covid19', 'largestvacci...</td>\n",
              "      <td>1</td>\n",
              "      <td>0</td>\n",
              "      <td>1</td>\n",
              "      <td>0</td>\n",
              "      <td>25</td>\n",
              "      <td>1</td>\n",
              "    </tr>\n",
              "    <tr>\n",
              "      <th>546</th>\n",
              "      <td>546</td>\n",
              "      <td>553</td>\n",
              "      <td>25/02/2021</td>\n",
              "      <td>Chocolate dose.. pineapple dose ante 😭😭😭</td>\n",
              "      <td>en</td>\n",
              "      <td>[]</td>\n",
              "      <td>2</td>\n",
              "      <td>1</td>\n",
              "      <td>2</td>\n",
              "      <td>0</td>\n",
              "      <td>6</td>\n",
              "      <td>1</td>\n",
              "    </tr>\n",
              "    <tr>\n",
              "      <th>547</th>\n",
              "      <td>547</td>\n",
              "      <td>554</td>\n",
              "      <td>25/02/2021</td>\n",
              "      <td>Long line😢😢😢 2nd dose vaccine💉💉💉</td>\n",
              "      <td>en</td>\n",
              "      <td>[]</td>\n",
              "      <td>0</td>\n",
              "      <td>0</td>\n",
              "      <td>0</td>\n",
              "      <td>0</td>\n",
              "      <td>5</td>\n",
              "      <td>1</td>\n",
              "    </tr>\n",
              "    <tr>\n",
              "      <th>548</th>\n",
              "      <td>548</td>\n",
              "      <td>555</td>\n",
              "      <td>25/02/2021</td>\n",
              "      <td>2nd dose vaccine 💉💉💉</td>\n",
              "      <td>en</td>\n",
              "      <td>[]</td>\n",
              "      <td>0</td>\n",
              "      <td>0</td>\n",
              "      <td>0</td>\n",
              "      <td>0</td>\n",
              "      <td>4</td>\n",
              "      <td>1</td>\n",
              "    </tr>\n",
              "    <tr>\n",
              "      <th>549</th>\n",
              "      <td>549</td>\n",
              "      <td>556</td>\n",
              "      <td>25/02/2021</td>\n",
              "      <td>After recovering from COVID-19, how many days ...</td>\n",
              "      <td>en</td>\n",
              "      <td>[]</td>\n",
              "      <td>1</td>\n",
              "      <td>1</td>\n",
              "      <td>1</td>\n",
              "      <td>0</td>\n",
              "      <td>21</td>\n",
              "      <td>1</td>\n",
              "    </tr>\n",
              "    <tr>\n",
              "      <th>550</th>\n",
              "      <td>550</td>\n",
              "      <td>557</td>\n",
              "      <td>25/02/2021</td>\n",
              "      <td>Overrated dose joint 🤷</td>\n",
              "      <td>en</td>\n",
              "      <td>[]</td>\n",
              "      <td>14</td>\n",
              "      <td>4</td>\n",
              "      <td>14</td>\n",
              "      <td>0</td>\n",
              "      <td>4</td>\n",
              "      <td>1</td>\n",
              "    </tr>\n",
              "    <tr>\n",
              "      <th>551</th>\n",
              "      <td>551</td>\n",
              "      <td>558</td>\n",
              "      <td>25/02/2021</td>\n",
              "      <td>Also AVR dose not listed in Rashtriya Bal Swas...</td>\n",
              "      <td>en</td>\n",
              "      <td>[]</td>\n",
              "      <td>1</td>\n",
              "      <td>1</td>\n",
              "      <td>1</td>\n",
              "      <td>1</td>\n",
              "      <td>49</td>\n",
              "      <td>1</td>\n",
              "    </tr>\n",
              "    <tr>\n",
              "      <th>2128</th>\n",
              "      <td>2128</td>\n",
              "      <td>2158</td>\n",
              "      <td>25/02/2021</td>\n",
              "      <td>📍  Vaccination Tracker (upto 24th February,...</td>\n",
              "      <td>en</td>\n",
              "      <td>['indiafightscorona', 'covid19', 'we4vaccine',...</td>\n",
              "      <td>0</td>\n",
              "      <td>0</td>\n",
              "      <td>0</td>\n",
              "      <td>0</td>\n",
              "      <td>14</td>\n",
              "      <td>1</td>\n",
              "    </tr>\n",
              "    <tr>\n",
              "      <th>2140</th>\n",
              "      <td>2140</td>\n",
              "      <td>2170</td>\n",
              "      <td>25/02/2021</td>\n",
              "      <td>Selangor Journal | Over 600,000 have registere...</td>\n",
              "      <td>en</td>\n",
              "      <td>[]</td>\n",
              "      <td>0</td>\n",
              "      <td>0</td>\n",
              "      <td>0</td>\n",
              "      <td>1</td>\n",
              "      <td>14</td>\n",
              "      <td>1</td>\n",
              "    </tr>\n",
              "    <tr>\n",
              "      <th>2138</th>\n",
              "      <td>2138</td>\n",
              "      <td>2168</td>\n",
              "      <td>25/02/2021</td>\n",
              "      <td>HKGMT —   How China's one-child policy created...</td>\n",
              "      <td>en</td>\n",
              "      <td>[]</td>\n",
              "      <td>0</td>\n",
              "      <td>0</td>\n",
              "      <td>0</td>\n",
              "      <td>1</td>\n",
              "      <td>37</td>\n",
              "      <td>1</td>\n",
              "    </tr>\n",
              "    <tr>\n",
              "      <th>2137</th>\n",
              "      <td>2137</td>\n",
              "      <td>2167</td>\n",
              "      <td>25/02/2021</td>\n",
              "      <td>No problem display mine also I will awaken mor...</td>\n",
              "      <td>en</td>\n",
              "      <td>[]</td>\n",
              "      <td>14</td>\n",
              "      <td>0</td>\n",
              "      <td>14</td>\n",
              "      <td>10</td>\n",
              "      <td>14</td>\n",
              "      <td>1</td>\n",
              "    </tr>\n",
              "    <tr>\n",
              "      <th>2136</th>\n",
              "      <td>2136</td>\n",
              "      <td>2166</td>\n",
              "      <td>25/02/2021</td>\n",
              "      <td>Of the 191mm vaccination shots that have been ...</td>\n",
              "      <td>en</td>\n",
              "      <td>[]</td>\n",
              "      <td>0</td>\n",
              "      <td>0</td>\n",
              "      <td>0</td>\n",
              "      <td>0</td>\n",
              "      <td>46</td>\n",
              "      <td>1</td>\n",
              "    </tr>\n",
              "    <tr>\n",
              "      <th>1097</th>\n",
              "      <td>1097</td>\n",
              "      <td>1116</td>\n",
              "      <td>25/02/2021</td>\n",
              "      <td>Are you kidding me, we are all out for just...</td>\n",
              "      <td>en</td>\n",
              "      <td>['indiavengland']</td>\n",
              "      <td>2</td>\n",
              "      <td>0</td>\n",
              "      <td>2</td>\n",
              "      <td>0</td>\n",
              "      <td>35</td>\n",
              "      <td>1</td>\n",
              "    </tr>\n",
              "    <tr>\n",
              "      <th>2134</th>\n",
              "      <td>2134</td>\n",
              "      <td>2164</td>\n",
              "      <td>25/02/2021</td>\n",
              "      <td>Private sector is paying more than government ...</td>\n",
              "      <td>en</td>\n",
              "      <td>[]</td>\n",
              "      <td>0</td>\n",
              "      <td>0</td>\n",
              "      <td>0</td>\n",
              "      <td>0</td>\n",
              "      <td>24</td>\n",
              "      <td>1</td>\n",
              "    </tr>\n",
              "    <tr>\n",
              "      <th>2133</th>\n",
              "      <td>2133</td>\n",
              "      <td>2163</td>\n",
              "      <td>25/02/2021</td>\n",
              "      <td>Amid conspiracy theories, MoH explains differe...</td>\n",
              "      <td>en</td>\n",
              "      <td>[]</td>\n",
              "      <td>0</td>\n",
              "      <td>0</td>\n",
              "      <td>0</td>\n",
              "      <td>0</td>\n",
              "      <td>15</td>\n",
              "      <td>1</td>\n",
              "    </tr>\n",
              "    <tr>\n",
              "      <th>2132</th>\n",
              "      <td>2132</td>\n",
              "      <td>2162</td>\n",
              "      <td>25/02/2021</td>\n",
              "      <td>In the near future, proof of vaccination (COVI...</td>\n",
              "      <td>en</td>\n",
              "      <td>['twitterpoll']</td>\n",
              "      <td>1</td>\n",
              "      <td>0</td>\n",
              "      <td>1</td>\n",
              "      <td>1</td>\n",
              "      <td>16</td>\n",
              "      <td>1</td>\n",
              "    </tr>\n",
              "    <tr>\n",
              "      <th>2131</th>\n",
              "      <td>2131</td>\n",
              "      <td>2161</td>\n",
              "      <td>25/02/2021</td>\n",
              "      <td>Yes you are very correct that Govt does no...</td>\n",
              "      <td>en</td>\n",
              "      <td>[]</td>\n",
              "      <td>0</td>\n",
              "      <td>1</td>\n",
              "      <td>0</td>\n",
              "      <td>0</td>\n",
              "      <td>39</td>\n",
              "      <td>1</td>\n",
              "    </tr>\n",
              "    <tr>\n",
              "      <th>2130</th>\n",
              "      <td>2130</td>\n",
              "      <td>2160</td>\n",
              "      <td>25/02/2021</td>\n",
              "      <td>First we are starting vaccination without adeq...</td>\n",
              "      <td>en</td>\n",
              "      <td>[]</td>\n",
              "      <td>0</td>\n",
              "      <td>0</td>\n",
              "      <td>0</td>\n",
              "      <td>0</td>\n",
              "      <td>18</td>\n",
              "      <td>1</td>\n",
              "    </tr>\n",
              "    <tr>\n",
              "      <th>2139</th>\n",
              "      <td>2139</td>\n",
              "      <td>2169</td>\n",
              "      <td>25/02/2021</td>\n",
              "      <td>This would the best news if it happens!! All t...</td>\n",
              "      <td>en</td>\n",
              "      <td>['vaccine', 'vaccination']</td>\n",
              "      <td>1</td>\n",
              "      <td>0</td>\n",
              "      <td>1</td>\n",
              "      <td>0</td>\n",
              "      <td>12</td>\n",
              "      <td>1</td>\n",
              "    </tr>\n",
              "    <tr>\n",
              "      <th>542</th>\n",
              "      <td>542</td>\n",
              "      <td>549</td>\n",
              "      <td>25/02/2021</td>\n",
              "      <td>2nd dose complete of COVID-19 vaccine @ Charak...</td>\n",
              "      <td>en</td>\n",
              "      <td>[]</td>\n",
              "      <td>0</td>\n",
              "      <td>0</td>\n",
              "      <td>0</td>\n",
              "      <td>0</td>\n",
              "      <td>10</td>\n",
              "      <td>1</td>\n",
              "    </tr>\n",
              "    <tr>\n",
              "      <th>2104</th>\n",
              "      <td>2104</td>\n",
              "      <td>2134</td>\n",
              "      <td>25/02/2021</td>\n",
              "      <td>Vaccination view point. Many points which are ...</td>\n",
              "      <td>en</td>\n",
              "      <td>[]</td>\n",
              "      <td>0</td>\n",
              "      <td>0</td>\n",
              "      <td>0</td>\n",
              "      <td>0</td>\n",
              "      <td>24</td>\n",
              "      <td>1</td>\n",
              "    </tr>\n",
              "    <tr>\n",
              "      <th>2102</th>\n",
              "      <td>2102</td>\n",
              "      <td>2132</td>\n",
              "      <td>25/02/2021</td>\n",
              "      <td>There's no priority   for teachers, schools ar...</td>\n",
              "      <td>en</td>\n",
              "      <td>['vaccination', 'teachers']</td>\n",
              "      <td>13</td>\n",
              "      <td>2</td>\n",
              "      <td>13</td>\n",
              "      <td>6</td>\n",
              "      <td>32</td>\n",
              "      <td>1</td>\n",
              "    </tr>\n",
              "    <tr>\n",
              "      <th>630</th>\n",
              "      <td>630</td>\n",
              "      <td>642</td>\n",
              "      <td>25/02/2021</td>\n",
              "      <td>Indirect pressure or showing off Nationali...</td>\n",
              "      <td>en</td>\n",
              "      <td>[]</td>\n",
              "      <td>0</td>\n",
              "      <td>0</td>\n",
              "      <td>0</td>\n",
              "      <td>0</td>\n",
              "      <td>20</td>\n",
              "      <td>1</td>\n",
              "    </tr>\n",
              "  </tbody>\n",
              "</table>\n",
              "</div>"
            ],
            "text/plain": [
              "      Unnamed: 0  Unnamed: 0.1        date  ... nretweets   t category\n",
              "2330        2330          2366  25/02/2021  ...         0  11        1\n",
              "2125        2125          2155  25/02/2021  ...         1  37        1\n",
              "2124        2124          2154  25/02/2021  ...         0   4        1\n",
              "2123        2123          2153  25/02/2021  ...         0  29        1\n",
              "2122        2122          2152  25/02/2021  ...         0  10        1\n",
              "2121        2121          2151  25/02/2021  ...         1  14        1\n",
              "2120        2120          2150  25/02/2021  ...         0  29        1\n",
              "2119        2119          2149  25/02/2021  ...         0  20        1\n",
              "2118        2118          2148  25/02/2021  ...         1  31        1\n",
              "2117        2117          2147  25/02/2021  ...         0  26        1\n",
              "2126        2126          2156  25/02/2021  ...         0  19        1\n",
              "2116        2116          2146  25/02/2021  ...         1   6        1\n",
              "2114        2114          2144  25/02/2021  ...         0  46        1\n",
              "2113        2113          2143  25/02/2021  ...         0  13        1\n",
              "2112        2112          2142  25/02/2021  ...         0  22        1\n",
              "2111        2111          2141  25/02/2021  ...         0  20        1\n",
              "2110        2110          2140  25/02/2021  ...         0  12        1\n",
              "2109        2109          2139  25/02/2021  ...         4  41        1\n",
              "2108        2108          2138  25/02/2021  ...         4  35        1\n",
              "2107        2107          2137  25/02/2021  ...         0  35        1\n",
              "2106        2106          2136  25/02/2021  ...         0  25        1\n",
              "2115        2115          2145  25/02/2021  ...         0   5        1\n",
              "2105        2105          2135  25/02/2021  ...         0  33        1\n",
              "2127        2127          2157  25/02/2021  ...         0   5        1\n",
              "2129        2129          2159  25/02/2021  ...         0  32        1\n",
              "543          543           550  25/02/2021  ...         1  46        1\n",
              "544          544           551  25/02/2021  ...         2  13        1\n",
              "545          545           552  25/02/2021  ...         0  25        1\n",
              "546          546           553  25/02/2021  ...         0   6        1\n",
              "547          547           554  25/02/2021  ...         0   5        1\n",
              "548          548           555  25/02/2021  ...         0   4        1\n",
              "549          549           556  25/02/2021  ...         0  21        1\n",
              "550          550           557  25/02/2021  ...         0   4        1\n",
              "551          551           558  25/02/2021  ...         1  49        1\n",
              "2128        2128          2158  25/02/2021  ...         0  14        1\n",
              "2140        2140          2170  25/02/2021  ...         1  14        1\n",
              "2138        2138          2168  25/02/2021  ...         1  37        1\n",
              "2137        2137          2167  25/02/2021  ...        10  14        1\n",
              "2136        2136          2166  25/02/2021  ...         0  46        1\n",
              "1097        1097          1116  25/02/2021  ...         0  35        1\n",
              "2134        2134          2164  25/02/2021  ...         0  24        1\n",
              "2133        2133          2163  25/02/2021  ...         0  15        1\n",
              "2132        2132          2162  25/02/2021  ...         1  16        1\n",
              "2131        2131          2161  25/02/2021  ...         0  39        1\n",
              "2130        2130          2160  25/02/2021  ...         0  18        1\n",
              "2139        2139          2169  25/02/2021  ...         0  12        1\n",
              "542          542           549  25/02/2021  ...         0  10        1\n",
              "2104        2104          2134  25/02/2021  ...         0  24        1\n",
              "2102        2102          2132  25/02/2021  ...         6  32        1\n",
              "630          630           642  25/02/2021  ...         0  20        1\n",
              "\n",
              "[50 rows x 12 columns]"
            ]
          },
          "metadata": {
            "tags": []
          },
          "execution_count": 8
        }
      ]
    },
    {
      "cell_type": "code",
      "metadata": {
        "id": "0RHlAmFS57g8"
      },
      "source": [
        "df1.category\n",
        "data =[]\n",
        "n_of_tweet=[]\n",
        "nek = []"
      ],
      "execution_count": null,
      "outputs": []
    },
    {
      "cell_type": "code",
      "metadata": {
        "id": "jUigZWHV-rdd"
      },
      "source": [
        "df3 = pd.DataFrame(columns=['netsenti','date','notweet']) "
      ],
      "execution_count": null,
      "outputs": []
    },
    {
      "cell_type": "code",
      "metadata": {
        "colab": {
          "base_uri": "https://localhost:8080/",
          "height": 47
        },
        "id": "I6Rbm9Ay-zPK",
        "outputId": "0e257a49-a2b1-4953-ce0f-82ccc8ae9fa7"
      },
      "source": [
        "df3\n",
        "  "
      ],
      "execution_count": null,
      "outputs": [
        {
          "output_type": "execute_result",
          "data": {
            "text/html": [
              "<div>\n",
              "<style scoped>\n",
              "    .dataframe tbody tr th:only-of-type {\n",
              "        vertical-align: middle;\n",
              "    }\n",
              "\n",
              "    .dataframe tbody tr th {\n",
              "        vertical-align: top;\n",
              "    }\n",
              "\n",
              "    .dataframe thead th {\n",
              "        text-align: right;\n",
              "    }\n",
              "</style>\n",
              "<table border=\"1\" class=\"dataframe\">\n",
              "  <thead>\n",
              "    <tr style=\"text-align: right;\">\n",
              "      <th></th>\n",
              "      <th>netsenti</th>\n",
              "      <th>date</th>\n",
              "      <th>notweet</th>\n",
              "    </tr>\n",
              "  </thead>\n",
              "  <tbody>\n",
              "  </tbody>\n",
              "</table>\n",
              "</div>"
            ],
            "text/plain": [
              "Empty DataFrame\n",
              "Columns: [netsenti, date, notweet]\n",
              "Index: []"
            ]
          },
          "metadata": {
            "tags": []
          },
          "execution_count": 31
        }
      ]
    },
    {
      "cell_type": "code",
      "metadata": {
        "id": "p8-Ehxrx6G6b"
      },
      "source": [
        "\n",
        "for i in range(1,10):\n",
        "  sum=0;\n",
        "  for j in range (2331):\n",
        "    if(df1['category'][j]==i):\n",
        "      a = df1['tweet'][j]\n",
        "      c = sid.polarity_scores(a)\n",
        "      sum = sum + c['compound']\n",
        "  data.append(sum)"
      ],
      "execution_count": null,
      "outputs": []
    },
    {
      "cell_type": "code",
      "metadata": {
        "colab": {
          "base_uri": "https://localhost:8080/"
        },
        "id": "wXiJcA20-nO0",
        "outputId": "93e2800f-ab80-4c62-8d40-394231eb3bcd"
      },
      "source": [
        "data"
      ],
      "execution_count": null,
      "outputs": [
        {
          "output_type": "execute_result",
          "data": {
            "text/plain": [
              "[14.1053,\n",
              " 33.40739999999999,\n",
              " 22.2413,\n",
              " 11.445599999999997,\n",
              " 136.79439999999997,\n",
              " 50.07639999999997,\n",
              " 34.18480000000002,\n",
              " 48.94679999999996,\n",
              " 4.2945]"
            ]
          },
          "metadata": {
            "tags": []
          },
          "execution_count": 34
        }
      ]
    },
    {
      "cell_type": "code",
      "metadata": {
        "id": "0WXQiQnV8QPU"
      },
      "source": [
        "df3['netsenti']=data\n",
        "dates = [ '25/02/2021','26/02/2021','27/02/2021','28/02/2021','01/03/2021','02/03/2021','03/03/2021','04/03/2021','05/03/2021']\n",
        "df3['date']=dates"
      ],
      "execution_count": null,
      "outputs": []
    },
    {
      "cell_type": "code",
      "metadata": {
        "colab": {
          "base_uri": "https://localhost:8080/",
          "height": 314
        },
        "id": "0CSrCbz68Xq3",
        "outputId": "6c51baf1-ad16-4cee-9dde-113501c894c7"
      },
      "source": [
        "df3"
      ],
      "execution_count": null,
      "outputs": [
        {
          "output_type": "execute_result",
          "data": {
            "text/html": [
              "<div>\n",
              "<style scoped>\n",
              "    .dataframe tbody tr th:only-of-type {\n",
              "        vertical-align: middle;\n",
              "    }\n",
              "\n",
              "    .dataframe tbody tr th {\n",
              "        vertical-align: top;\n",
              "    }\n",
              "\n",
              "    .dataframe thead th {\n",
              "        text-align: right;\n",
              "    }\n",
              "</style>\n",
              "<table border=\"1\" class=\"dataframe\">\n",
              "  <thead>\n",
              "    <tr style=\"text-align: right;\">\n",
              "      <th></th>\n",
              "      <th>netsenti</th>\n",
              "      <th>date</th>\n",
              "      <th>notweet</th>\n",
              "    </tr>\n",
              "  </thead>\n",
              "  <tbody>\n",
              "    <tr>\n",
              "      <th>0</th>\n",
              "      <td>14.1053</td>\n",
              "      <td>25/02/2021</td>\n",
              "      <td>NaN</td>\n",
              "    </tr>\n",
              "    <tr>\n",
              "      <th>1</th>\n",
              "      <td>33.4074</td>\n",
              "      <td>26/02/2021</td>\n",
              "      <td>NaN</td>\n",
              "    </tr>\n",
              "    <tr>\n",
              "      <th>2</th>\n",
              "      <td>22.2413</td>\n",
              "      <td>27/02/2021</td>\n",
              "      <td>NaN</td>\n",
              "    </tr>\n",
              "    <tr>\n",
              "      <th>3</th>\n",
              "      <td>11.4456</td>\n",
              "      <td>28/02/2021</td>\n",
              "      <td>NaN</td>\n",
              "    </tr>\n",
              "    <tr>\n",
              "      <th>4</th>\n",
              "      <td>136.7944</td>\n",
              "      <td>01/03/2021</td>\n",
              "      <td>NaN</td>\n",
              "    </tr>\n",
              "    <tr>\n",
              "      <th>5</th>\n",
              "      <td>50.0764</td>\n",
              "      <td>02/03/2021</td>\n",
              "      <td>NaN</td>\n",
              "    </tr>\n",
              "    <tr>\n",
              "      <th>6</th>\n",
              "      <td>34.1848</td>\n",
              "      <td>03/03/2021</td>\n",
              "      <td>NaN</td>\n",
              "    </tr>\n",
              "    <tr>\n",
              "      <th>7</th>\n",
              "      <td>48.9468</td>\n",
              "      <td>04/03/2021</td>\n",
              "      <td>NaN</td>\n",
              "    </tr>\n",
              "    <tr>\n",
              "      <th>8</th>\n",
              "      <td>4.2945</td>\n",
              "      <td>05/03/2021</td>\n",
              "      <td>NaN</td>\n",
              "    </tr>\n",
              "  </tbody>\n",
              "</table>\n",
              "</div>"
            ],
            "text/plain": [
              "   netsenti        date notweet\n",
              "0   14.1053  25/02/2021     NaN\n",
              "1   33.4074  26/02/2021     NaN\n",
              "2   22.2413  27/02/2021     NaN\n",
              "3   11.4456  28/02/2021     NaN\n",
              "4  136.7944  01/03/2021     NaN\n",
              "5   50.0764  02/03/2021     NaN\n",
              "6   34.1848  03/03/2021     NaN\n",
              "7   48.9468  04/03/2021     NaN\n",
              "8    4.2945  05/03/2021     NaN"
            ]
          },
          "metadata": {
            "tags": []
          },
          "execution_count": 36
        }
      ]
    },
    {
      "cell_type": "code",
      "metadata": {
        "colab": {
          "base_uri": "https://localhost:8080/",
          "height": 228
        },
        "id": "V2-vGyjH8i6t",
        "outputId": "289bbccc-0896-4d66-ecb2-9e2f816a1d4d"
      },
      "source": [
        "import matplotlib.pyplot as plt\n",
        "import numpy as np\n",
        "import matplotlib.pyplot as plt\n",
        "import seaborn as sns\n",
        "x ,y  = dates,df3['netsenti']\n",
        "plt.figure(figsize=(10,3))\n",
        "plt.plot(x,y)"
      ],
      "execution_count": null,
      "outputs": [
        {
          "output_type": "execute_result",
          "data": {
            "text/plain": [
              "[<matplotlib.lines.Line2D at 0x7f4060d20f50>]"
            ]
          },
          "metadata": {
            "tags": []
          },
          "execution_count": 37
        },
        {
          "output_type": "display_data",
          "data": {
            "image/png": "[encoded data removed]",
            "text/plain": [
              "<Figure size 720x216 with 1 Axes>"
            ]
          },
          "metadata": {
            "tags": [],
            "needs_background": "light"
          }
        }
      ]
    },
    {
      "cell_type": "code",
      "metadata": {
        "id": "NT8H9YQo8tMm",
        "colab": {
          "base_uri": "https://localhost:8080/"
        },
        "outputId": "473dd9a8-a589-4631-8a39-e55a0ec1cae9"
      },
      "source": [
        "pip install nltk "
      ],
      "execution_count": 1,
      "outputs": [
        {
          "output_type": "stream",
          "text": [
            "Requirement already satisfied: nltk in /usr/local/lib/python3.7/dist-packages (3.2.5)\n",
            "Requirement already satisfied: six in /usr/local/lib/python3.7/dist-packages (from nltk) (1.15.0)\n"
          ],
          "name": "stdout"
        }
      ]
    },
    {
      "cell_type": "code",
      "metadata": {
        "id": "IkPD4lIT-JNm",
        "colab": {
          "base_uri": "https://localhost:8080/"
        },
        "outputId": "56b23427-d374-4159-af8d-2f84b42f4b34"
      },
      "source": [
        "import nltk\n",
        "nltk.download('vader_lexicon')\n",
        "from nltk.sentiment.vader import SentimentIntensityAnalyzer\n",
        "\n",
        "sid = SentimentIntensityAnalyzer()"
      ],
      "execution_count": 2,
      "outputs": [
        {
          "output_type": "stream",
          "text": [
            "[nltk_data] Downloading package vader_lexicon to /root/nltk_data...\n"
          ],
          "name": "stdout"
        },
        {
          "output_type": "stream",
          "text": [
            "/usr/local/lib/python3.7/dist-packages/nltk/twitter/__init__.py:20: UserWarning: The twython library has not been installed. Some functionality from the twitter package will not be available.\n",
            "  warnings.warn(\"The twython library has not been installed. \"\n"
          ],
          "name": "stderr"
        }
      ]
    },
    {
      "cell_type": "code",
      "metadata": {
        "colab": {
          "base_uri": "https://localhost:8080/"
        },
        "id": "QCqOEcXYoSWM",
        "outputId": "86d363a4-a6d6-45c9-f23c-45810a61d63e"
      },
      "source": [
        "c = sid.polarity_scores(a)\n",
        "c"
      ],
      "execution_count": 3,
      "outputs": [
        {
          "output_type": "execute_result",
          "data": {
            "text/plain": [
              "{'compound': 0.0, 'neg': 0.0, 'neu': 1.0, 'pos': 0.0}"
            ]
          },
          "metadata": {
            "tags": []
          },
          "execution_count": 3
        }
      ]
    },
    {
      "cell_type": "code",
      "metadata": {
        "id": "EPc7p3EHocHF"
      },
      "source": [
        ""
      ],
      "execution_count": null,
      "outputs": []
    }
  ]
}